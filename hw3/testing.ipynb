{
 "cells": [
  {
   "cell_type": "code",
   "execution_count": 1,
   "metadata": {},
   "outputs": [
    {
     "name": "stdout",
     "output_type": "stream",
     "text": [
      "Loaded 4957 training examples.\n",
      "Example input_ids shape: torch.Size([1, 128])\n",
      "Label: 3\n"
     ]
    }
   ],
   "source": [
    "from main import OpenBookQADataset\n",
    "from transformers import BertTokenizer\n",
    "\n",
    "tokenizer = BertTokenizer.from_pretrained(\"bert-base-uncased\")\n",
    "dataset = OpenBookQADataset(\"train_complete.jsonl\", tokenizer)\n",
    "\n",
    "print(\"Loaded\", len(dataset), \"training examples.\")\n",
    "sample_encs, label = dataset[0]\n",
    "print(\"Example input_ids shape:\", sample_encs[0][\"input_ids\"].shape)\n",
    "print(\"Label:\", label)\n"
   ]
  },
  {
   "cell_type": "code",
   "execution_count": 2,
   "metadata": {},
   "outputs": [
    {
     "name": "stdout",
     "output_type": "stream",
     "text": [
      "Logits shape: torch.Size([4, 4])\n",
      "Logits: tensor([[0.4618, 0.4196, 0.2734, 0.3441],\n",
      "        [0.2386, 0.2710, 0.1938, 0.1903],\n",
      "        [0.4033, 0.3238, 0.4280, 0.3636],\n",
      "        [0.1562, 0.3797, 0.2178, 0.2392]])\n"
     ]
    }
   ],
   "source": [
    "from main import OpenBookQADataset, CustomBertMC\n",
    "from transformers import BertTokenizer\n",
    "import torch\n",
    "\n",
    "tokenizer = BertTokenizer.from_pretrained(\"bert-base-uncased\")\n",
    "dataset = OpenBookQADataset(\"train_complete.jsonl\", tokenizer)\n",
    "\n",
    "batch = [dataset[i] for i in range(4)]\n",
    "encodings_batch = [item[0] for item in batch]\n",
    "\n",
    "model = CustomBertMC().to(\"cpu\")\n",
    "with torch.no_grad():\n",
    "    logits = model(encodings_batch)\n",
    "\n",
    "print(\"Logits shape:\", logits.shape)  # should be [4, 4]\n",
    "print(\"Logits:\", logits)\n"
   ]
  },
  {
   "cell_type": "code",
   "execution_count": 3,
   "metadata": {},
   "outputs": [
    {
     "name": "stdout",
     "output_type": "stream",
     "text": [
      "Starting training...\n",
      "Epoch 1 | Loss: 1268.29\n",
      "Epoch 2 | Loss: 679.10\n",
      "Epoch 3 | Loss: 263.41\n",
      "Validation Accuracy: 0.644 | Inference Time: 54.76s\n",
      "Training Time: 8691.42s\n"
     ]
    }
   ],
   "source": [
    "from main import train\n",
    "\n",
    "trained_model = train()\n"
   ]
  },
  {
   "cell_type": "code",
   "execution_count": 5,
   "metadata": {},
   "outputs": [],
   "source": [
    "from main import OpenBookQADataset, evaluate, custom_collate\n",
    "from transformers import BertTokenizer\n",
    "from torch.utils.data import DataLoader\n",
    "\n",
    "tokenizer = BertTokenizer.from_pretrained(\"bert-base-uncased\")\n",
    "test_set = OpenBookQADataset(\"test_complete.jsonl\", tokenizer)\n",
    "test_loader = DataLoader(test_set, batch_size=4, collate_fn=custom_collate)\n",
    "\n",
    "test_acc, test_infer_time = evaluate(trained_model, test_loader)\n",
    "print(f\"Test Accuracy: {test_acc:.3f} | Test Inference Time: {test_infer_time:.2f}s\")"
   ]
  },
  {
   "cell_type": "code",
   "execution_count": null,
   "metadata": {},
   "outputs": [],
   "source": []
  }
 ],
 "metadata": {
  "kernelspec": {
   "display_name": "base",
   "language": "python",
   "name": "python3"
  },
  "language_info": {
   "codemirror_mode": {
    "name": "ipython",
    "version": 3
   },
   "file_extension": ".py",
   "mimetype": "text/x-python",
   "name": "python",
   "nbconvert_exporter": "python",
   "pygments_lexer": "ipython3",
   "version": "3.12.5"
  }
 },
 "nbformat": 4,
 "nbformat_minor": 2
}
