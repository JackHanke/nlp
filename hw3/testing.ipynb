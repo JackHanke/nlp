{
 "cells": [
  {
   "cell_type": "code",
   "execution_count": 1,
   "metadata": {},
   "outputs": [
    {
     "name": "stdout",
     "output_type": "stream",
     "text": [
      "Loaded 4957 training examples.\n",
      "Example input_ids shape: torch.Size([1, 128])\n",
      "Label: 3\n"
     ]
    }
   ],
   "source": [
    "from main import OpenBookQADataset\n",
    "from transformers import BertTokenizer\n",
    "\n",
    "tokenizer = BertTokenizer.from_pretrained(\"bert-base-uncased\")\n",
    "dataset = OpenBookQADataset(\"train_complete.jsonl\", tokenizer)\n",
    "\n",
    "print(\"Loaded\", len(dataset), \"training examples.\")\n",
    "sample_encs, label = dataset[0]\n",
    "print(\"Example input_ids shape:\", sample_encs[0][\"input_ids\"].shape)\n",
    "print(\"Label:\", label)\n"
   ]
  },
  {
   "cell_type": "code",
   "execution_count": 2,
   "metadata": {},
   "outputs": [
    {
     "name": "stdout",
     "output_type": "stream",
     "text": [
      "Logits shape: torch.Size([4, 4])\n",
      "Logits: tensor([[0.4618, 0.4196, 0.2734, 0.3441],\n",
      "        [0.2386, 0.2710, 0.1938, 0.1903],\n",
      "        [0.4033, 0.3238, 0.4280, 0.3636],\n",
      "        [0.1562, 0.3797, 0.2178, 0.2392]])\n"
     ]
    }
   ],
   "source": [
    "from main import OpenBookQADataset, CustomBertMC\n",
    "from transformers import BertTokenizer\n",
    "import torch\n",
    "\n",
    "tokenizer = BertTokenizer.from_pretrained(\"bert-base-uncased\")\n",
    "dataset = OpenBookQADataset(\"train_complete.jsonl\", tokenizer)\n",
    "\n",
    "batch = [dataset[i] for i in range(4)]\n",
    "encodings_batch = [item[0] for item in batch]\n",
    "\n",
    "model = CustomBertMC().to(\"cpu\")\n",
    "with torch.no_grad():\n",
    "    logits = model(encodings_batch)\n",
    "\n",
    "print(\"Logits shape:\", logits.shape)  # should be [4, 4]\n",
    "print(\"Logits:\", logits)\n"
   ]
  },
  {
   "cell_type": "code",
   "execution_count": 3,
   "metadata": {},
   "outputs": [
    {
     "name": "stdout",
     "output_type": "stream",
     "text": [
      "Starting training...\n",
      "Epoch 1 | Loss: 1268.29\n"
     ]
    }
   ],
   "source": [
    "from main import train\n",
    "\n",
    "trained_model = train()\n"
   ]
  },
  {
   "cell_type": "code",
   "execution_count": null,
   "metadata": {},
   "outputs": [],
   "source": []
  }
 ],
 "metadata": {
  "kernelspec": {
   "display_name": "base",
   "language": "python",
   "name": "python3"
  },
  "language_info": {
   "codemirror_mode": {
    "name": "ipython",
    "version": 3
   },
   "file_extension": ".py",
   "mimetype": "text/x-python",
   "name": "python",
   "nbconvert_exporter": "python",
   "pygments_lexer": "ipython3",
   "version": "3.12.5"
  }
 },
 "nbformat": 4,
 "nbformat_minor": 2
}
