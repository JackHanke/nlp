{
 "cells": [
  {
   "cell_type": "code",
   "execution_count": null,
   "metadata": {},
   "outputs": [
    {
     "name": "stdout",
     "output_type": "stream",
     "text": [
      "4957\n",
      "[[' [CLS] the sun is the source of energy for physical cycles on Earth [SEP] The sun is responsible for puppies learning new tricks [SEP] [END]', ' [CLS] the sun is the source of energy for physical cycles on Earth [SEP] The sun is responsible for children growing up and getting old [SEP] [END]', ' [CLS] the sun is the source of energy for physical cycles on Earth [SEP] The sun is responsible for flowers wilting in a vase [SEP] [END]', ' [CLS] the sun is the source of energy for physical cycles on Earth [SEP] The sun is responsible for plants sprouting, blooming and wilting [SEP] [END]'], [3]]\n"
     ]
    }
   ],
   "source": [
    "from utils import read_qa_json\n",
    "\n",
    "train = read_qa_json(\n",
    "    file_name='train_complete.jsonl', \n",
    "    verbose=False\n",
    ")\n",
    "\n",
    "print(len(train))\n",
    "for i in train:\n",
    "    print(i)\n",
    "    break"
   ]
  }
 ],
 "metadata": {
  "kernelspec": {
   "display_name": "dlvenv",
   "language": "python",
   "name": "dlvenv"
  },
  "language_info": {
   "codemirror_mode": {
    "name": "ipython",
    "version": 3
   },
   "file_extension": ".py",
   "mimetype": "text/x-python",
   "name": "python",
   "nbconvert_exporter": "python",
   "pygments_lexer": "ipython3",
   "version": "3.11.2"
  }
 },
 "nbformat": 4,
 "nbformat_minor": 2
}
