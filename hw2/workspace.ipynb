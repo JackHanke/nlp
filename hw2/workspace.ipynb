{
 "cells": [
  {
   "cell_type": "code",
   "execution_count": 1,
   "metadata": {},
   "outputs": [],
   "source": [
    "%load_ext autoreload\n",
    "%autoreload 2"
   ]
  },
  {
   "cell_type": "code",
   "execution_count": 1,
   "metadata": {},
   "outputs": [],
   "source": [
    "import torch\n",
    "import torch.nn as nn\n",
    "import torch.optim as optim\n",
    "from torch.utils.data import Dataset, DataLoader\n",
    "from tqdm import tqdm\n",
    "from utils import read_qa_json, read_qa_json_generative, read_qa_json_generative_q3\n",
    "from pprint import pprint\n",
    "from transformers import AutoTokenizer, BertModel, GPT2LMHeadModel, GPT2Tokenizer, GPT2TokenizerFast"
   ]
  },
  {
   "cell_type": "code",
   "execution_count": 3,
   "metadata": {},
   "outputs": [],
   "source": [
    "bert_model = BertModel.from_pretrained(\"bert-base-uncased\")\n",
    "tokenizer = AutoTokenizer.from_pretrained(\"bert-base-uncased\")"
   ]
  },
  {
   "cell_type": "code",
   "execution_count": 4,
   "metadata": {},
   "outputs": [],
   "source": [
    "train = read_qa_json_generative(file_name='train_complete.jsonl', verbose=False)\n",
    "valid = read_qa_json_generative(file_name='dev_complete.jsonl')\n",
    "test = read_qa_json_generative(file_name='test_complete.jsonl')\n",
    "\n",
    "tokenizer = GPT2TokenizerFast.from_pretrained(\"gpt2\")\n",
    "\n",
    "PAD_TOKEN_INDEX = 0\n",
    "\n",
    "class TokenQADataset(Dataset):\n",
    "    def __init__(self, data: list[str], tokenizer: callable, seq_len: int = 512):\n",
    "        self.data = data\n",
    "        self.tokenizer = tokenizer\n",
    "        self.seq_len = seq_len\n",
    "        self.pad_token = -1\n",
    "\n",
    "    def __len__(self):\n",
    "        return len(self.data)\n",
    "    \n",
    "    def __getitem__(self, idx):\n",
    "        tokenized_sentence = self.tokenizer(self.data[idx])['input_ids']\n",
    "        question_sequence = tokenized_sentence[:-1]\n",
    "        answer_sequence = tokenized_sentence[1:]\n",
    "        n = len(tokenized_sentence)\n",
    "        if n > self.seq_len:\n",
    "            question_sequence = question_sequence[:self.seq_len+1]\n",
    "            answer_sequence = answer_sequence[:self.seq_len+1]\n",
    "        elif n < self.seq_len:\n",
    "            question_sequence += [PAD_TOKEN_INDEX for _ in range(self.seq_len+1-n)]\n",
    "            answer_sequence += [PAD_TOKEN_INDEX for _ in range(self.seq_len+1-n)]\n",
    "        return torch.tensor(question_sequence, dtype=torch.long).contiguous(), torch.tensor(answer_sequence, dtype=torch.long).contiguous()\n",
    "\n",
    "train_ds = TokenQADataset(data=train, tokenizer=tokenizer)\n",
    "val_ds = TokenQADataset(data=valid, tokenizer=tokenizer)\n",
    "test_ds = TokenQADataset(data=test, tokenizer=tokenizer)\n",
    "\n",
    "batch_size = 8\n",
    "train_loader = DataLoader(train_ds, batch_size=batch_size, shuffle=True)\n",
    "val_loader = DataLoader(val_ds, batch_size=batch_size, shuffle=False)\n",
    "test_loader = DataLoader(test_ds, batch_size=batch_size, shuffle=False)\n"
   ]
  },
  {
   "cell_type": "code",
   "execution_count": 5,
   "metadata": {},
   "outputs": [
    {
     "name": "stdout",
     "output_type": "stream",
     "text": [
      "[317]\n",
      "[347]\n",
      "[327]\n",
      "[360]\n",
      "[685, 2257, 7227, 60]\n",
      " snowball\n",
      " responders\n",
      " B\n",
      "!\n"
     ]
    }
   ],
   "source": [
    "tokenizer.pad_token_type_id\n",
    "\n",
    "print(tokenizer.encode(' A'))\n",
    "print(tokenizer.encode(' B'))\n",
    "print(tokenizer.encode(' C'))\n",
    "print(tokenizer.encode(' D'))\n",
    "print(tokenizer.encode(' [START]'))\n",
    "\n",
    "print(tokenizer.decode(46275))\n",
    "print(tokenizer.decode(33339))\n",
    "print(tokenizer.decode(347))\n",
    "print(tokenizer.decode(0))\n"
   ]
  },
  {
   "cell_type": "code",
   "execution_count": 7,
   "metadata": {},
   "outputs": [
    {
     "name": "stderr",
     "output_type": "stream",
     "text": [
      "Loss: 1.798633: 100%|██████████| 620/620 [01:19<00:00,  7.83it/s]\n",
      "Question 500: 25.2000 percent. Validation Loss: 14.8264: 100%|██████████| 63/63 [00:05<00:00, 11.78it/s]\n"
     ]
    },
    {
     "name": "stdout",
     "output_type": "stream",
     "text": [
      "Epoch 1 validation accuracy: 25.2000. Validation Loss: 14.5584\n"
     ]
    },
    {
     "name": "stderr",
     "output_type": "stream",
     "text": [
      "Loss: 1.325781: 100%|██████████| 620/620 [01:13<00:00,  8.39it/s]\n",
      "Question 500: 27.8000 percent. Validation Loss: 13.7131: 100%|██████████| 63/63 [00:05<00:00, 12.58it/s]\n"
     ]
    },
    {
     "name": "stdout",
     "output_type": "stream",
     "text": [
      "Epoch 2 validation accuracy: 27.8000. Validation Loss: 13.3820\n"
     ]
    },
    {
     "name": "stderr",
     "output_type": "stream",
     "text": [
      "Loss: 1.113770: 100%|██████████| 620/620 [01:08<00:00,  9.00it/s]\n",
      "Question 500: 38.4000 percent. Validation Loss: 15.1330: 100%|██████████| 63/63 [00:05<00:00, 11.40it/s]\n"
     ]
    },
    {
     "name": "stdout",
     "output_type": "stream",
     "text": [
      "Epoch 3 validation accuracy: 38.4000. Validation Loss: 14.7464\n"
     ]
    },
    {
     "name": "stderr",
     "output_type": "stream",
     "text": [
      "Loss: 0.156670: 100%|██████████| 620/620 [01:17<00:00,  8.02it/s]\n",
      "Question 500: 36.2000 percent. Validation Loss: 14.4500: 100%|██████████| 63/63 [00:05<00:00, 10.86it/s]\n"
     ]
    },
    {
     "name": "stdout",
     "output_type": "stream",
     "text": [
      "Epoch 4 validation accuracy: 36.2000. Validation Loss: 13.8589\n"
     ]
    },
    {
     "name": "stderr",
     "output_type": "stream",
     "text": [
      "Loss: 0.108106: 100%|██████████| 620/620 [01:19<00:00,  7.79it/s]\n",
      "Question 500: 38.6000 percent. Validation Loss: 13.7732: 100%|██████████| 63/63 [00:05<00:00, 10.94it/s]\n"
     ]
    },
    {
     "name": "stdout",
     "output_type": "stream",
     "text": [
      "Epoch 5 validation accuracy: 38.6000. Validation Loss: 12.7714\n",
      "Saved model as saves/q2fintune.pth\n"
     ]
    },
    {
     "name": "stderr",
     "output_type": "stream",
     "text": [
      "Question 500: 40.0000 percent. Validation Loss: 12.6356: 100%|██████████| 63/63 [00:05<00:00, 10.76it/s]"
     ]
    },
    {
     "name": "stdout",
     "output_type": "stream",
     "text": [
      "Final test accuracy: 40.0000\n"
     ]
    },
    {
     "name": "stderr",
     "output_type": "stream",
     "text": [
      "\n"
     ]
    }
   ],
   "source": [
    "# NOTE Question 2\n",
    "from decoderonly import Transformer, train_model, test_model\n",
    "\n",
    "device=torch.device('cuda' if torch.cuda.is_available() else 'cpu')\n",
    "\n",
    "# get pretrained model\n",
    "# TODO change this\n",
    "model = Transformer(\n",
    "    src_vocab=50257, \n",
    "    trg_vocab=50257, \n",
    "    d_model=512, \n",
    "    N=6, \n",
    "    heads=8, \n",
    "    dropout=0.1, \n",
    "    seqlen=512, \n",
    "    device=device,\n",
    ")\n",
    "model.load_state_dict(torch.load(f'saves/pretrainedwiki103.pth', weights_only=True))\n",
    "model.to(device)\n",
    "\n",
    "# baseline\n",
    "# acc, val_loss = test_model(model=model, test=test_loader)\n",
    "# print(f'Baseline test accuracy: {acc*100:.4f}')\n",
    "\n",
    "# train\n",
    "train_model(\n",
    "    model=model,\n",
    "    train=train_loader,\n",
    "    valid=val_loader,\n",
    "    epochs=5,\n",
    "    batch_size=4,\n",
    "    only_last_token=True,\n",
    "    savename=f'saves/q2fintune.pth',\n",
    ")\n",
    "\n",
    "# final accuracy\n",
    "acc, val_loss = test_model(model=model, test=test_loader)\n",
    "print(f'Final test accuracy: {acc*100:.4f}')\n",
    "\n"
   ]
  },
  {
   "cell_type": "code",
   "execution_count": 8,
   "metadata": {},
   "outputs": [
    {
     "name": "stdout",
     "output_type": "stream",
     "text": [
      "Example inference:\n",
      "\n",
      " using less resources usually causes money to be saved A person wants to start saving money so that they can afford a nice vacation at the end of the year. After looking over their budget and expenses, they decide the best way to save money is to [A] make more phone calls [B] quit eating lunch out [C] buy less with monopoly money [D] have lunch with friends Answer:!!!!!!!!!!!!!!!!!!!!!!!!!!!!!!!!!!!!!!!!!!!!!!!!!!!!!!!!!!!!!!!!!!!!!!!!!!!!!!!!!!!!!!!!!!!!!!!!!!!!!!!!!!!!!!!!!!!!!!!!!!!!!!!!!!!!!!!!!!!!!!!!!!!!!!!!!!!!!!!!!!!!!!!!!!!!!!!!!!!!!!!!!!!!!!!!!!!!!!!!!!!!!!!!!!!!!!!!!!!!!!!!!!!!!!!!!!!!!!!!!!!!!!!!!!!!!!!!!!!!!!!!!!!!!!!!!!!!!!!!!!!!!!!!!!!!!!!!!!!!!!!!!!!!!!!!!!!!!!!!!!!!!!!!!!!!!!!!!!!!!!!!!!!!!!!!!!!!!!!!!!!!!!!!!!!!!!!!!!!!!!!!!!!!!!!!!!!!!!!!!!!!!!!!!!!!!!!!!!!!!!!!!!!!!!!!\n",
      "\n",
      "\n",
      "Example inference:\n",
      "\n",
      " less resources usually causes money to be saved A person wants to start saving money so that they can afford a nice vacation at the end of the year. After looking over their budget and expenses, they decide the best way to save money is to [A] make more phone calls [B] quit eating lunch out [C] buy less with monopoly money [D] have lunch with friends Answer: B!!!!!!!!!!!!!!!!!!!!!!!!!!!!!!!!!!!!!!!!!!!!!!!!!!!!!!!!!!!!!!!!!!!!!!!!!!!!!!!!!!!!!!!!!!!!!!!!!!!!!!!!!!!!!!!!!!!!!!!!!!!!!!!!!!!!!!!!!!!!!!!!!!!!!!!!!!!!!!!!!!!!!!!!!!!!!!!!!!!!!!!!!!!!!!!!!!!!!!!!!!!!!!!!!!!!!!!!!!!!!!!!!!!!!!!!!!!!!!!!!!!!!!!!!!!!!!!!!!!!!!!!!!!!!!!!!!!!!!!!!!!!!!!!!!!!!!!!!!!!!!!!!!!!!!!!!!!!!!!!!!!!!!!!!!!!!!!!!!!!!!!!!!!!!!!!!!!!!!!!!!!!!!!!!!!!!!!!!!!!!!!!!!!!!!!!!!!!!!!!!!!!!!!!!!!!!!!!!!!!!!!!!!!!!!!!\n",
      "\n",
      "\n",
      "Model prediction token index: 347\n",
      "Model prediction:  B\n"
     ]
    }
   ],
   "source": [
    "raw_data = test_ds[0][0]\n",
    "# true_answer = test_ds[0]\n",
    "# print(raw_data)\n",
    "\n",
    "exmp = list(test_ds[0][0])\n",
    "detokenized_exmp = tokenizer.decode(exmp)\n",
    "print(f'Example inference:\\n\\n{detokenized_exmp}\\n\\n')\n",
    "exmp = list(test_ds[0][1])\n",
    "detokenized_exmp = tokenizer.decode(exmp)\n",
    "print(f'Example inference:\\n\\n{detokenized_exmp}\\n\\n')\n",
    "\n",
    "\n",
    "\n",
    "predictions = model.forward(raw_data.to(model.device))\n",
    "pred_token_idx = torch.argmax(predictions[:, -1], dim=-1).item()\n",
    "print(f'Model prediction token index: {pred_token_idx}')\n",
    "pred_next_token = tokenizer.decode(pred_token_idx)\n",
    "print(f'Model prediction: {pred_next_token}')"
   ]
  },
  {
   "cell_type": "code",
   "execution_count": 2,
   "metadata": {},
   "outputs": [],
   "source": [
    "train = read_qa_json_generative_q3(file_name='train_complete.jsonl', verbose=False)\n",
    "valid = read_qa_json_generative(file_name='dev_complete.jsonl')\n",
    "test = read_qa_json_generative(file_name='test_complete.jsonl')\n",
    "\n",
    "tokenizer = GPT2TokenizerFast.from_pretrained(\"gpt2\")\n",
    "\n",
    "PAD_TOKEN_INDEX = 0\n",
    "\n",
    "class SentenceQADataset(Dataset):\n",
    "    def __init__(self, data: list[str], tokenizer: callable, seq_len: int = 512):\n",
    "        self.data = data\n",
    "        self.tokenizer = tokenizer\n",
    "        self.seq_len = seq_len\n",
    "        self.pad_token = -1\n",
    "\n",
    "    def __len__(self):\n",
    "        return len(self.data)\n",
    "    \n",
    "    def __getitem__(self, idx):\n",
    "        tokenized_sentence = self.tokenizer(self.data[idx])['input_ids']\n",
    "        question_sequence = tokenized_sentence[:-1]\n",
    "        answer_sequence = tokenized_sentence[1:]\n",
    "        n = len(tokenized_sentence)\n",
    "        if n > self.seq_len:\n",
    "            question_sequence = question_sequence[:self.seq_len+1]\n",
    "            answer_sequence = answer_sequence[:self.seq_len+1]\n",
    "        elif n < self.seq_len:\n",
    "            question_sequence += [PAD_TOKEN_INDEX for _ in range(self.seq_len+1-n)]\n",
    "            answer_sequence += [PAD_TOKEN_INDEX for _ in range(self.seq_len+1-n)]\n",
    "        return torch.tensor(question_sequence, dtype=torch.long).contiguous(), torch.tensor(answer_sequence, dtype=torch.long).contiguous()\n",
    "\n",
    "train_ds = SentenceQADataset(data=train, tokenizer=tokenizer)\n",
    "val_ds = SentenceQADataset(data=valid, tokenizer=tokenizer)\n",
    "test_ds = SentenceQADataset(data=test, tokenizer=tokenizer)\n",
    "\n",
    "batch_size = 8\n",
    "train_loader = DataLoader(train_ds, batch_size=batch_size, shuffle=True)\n",
    "val_loader = DataLoader(val_ds, batch_size=batch_size, shuffle=False)\n",
    "test_loader = DataLoader(test_ds, batch_size=batch_size, shuffle=False)"
   ]
  },
  {
   "cell_type": "code",
   "execution_count": 3,
   "metadata": {},
   "outputs": [
    {
     "data": {
      "text/plain": [
       "Transformer(\n",
       "  (decoder): Decoder(\n",
       "    (embed): Embedder(\n",
       "      (embed): Embedding(50257, 512)\n",
       "    )\n",
       "    (pe): PositionalEncoder(\n",
       "      (dropout): Dropout(p=0.1, inplace=False)\n",
       "    )\n",
       "    (layers): ModuleList(\n",
       "      (0-5): 6 x DecoderLayer(\n",
       "        (norm_1): Norm()\n",
       "        (norm_2): Norm()\n",
       "        (dropout_1): Dropout(p=0.1, inplace=False)\n",
       "        (dropout_2): Dropout(p=0.1, inplace=False)\n",
       "        (attn_1): MultiHeadAttention(\n",
       "          (q_linear): Linear(in_features=512, out_features=512, bias=True)\n",
       "          (v_linear): Linear(in_features=512, out_features=512, bias=True)\n",
       "          (k_linear): Linear(in_features=512, out_features=512, bias=True)\n",
       "          (dropout): Dropout(p=0.1, inplace=False)\n",
       "          (out): Linear(in_features=512, out_features=512, bias=True)\n",
       "        )\n",
       "        (ff): FeedForward(\n",
       "          (linear_1): Linear(in_features=512, out_features=2048, bias=True)\n",
       "          (dropout): Dropout(p=0.1, inplace=False)\n",
       "          (linear_2): Linear(in_features=2048, out_features=512, bias=True)\n",
       "        )\n",
       "      )\n",
       "    )\n",
       "    (norm): Norm()\n",
       "  )\n",
       "  (out): Linear(in_features=512, out_features=50257, bias=True)\n",
       ")"
      ]
     },
     "execution_count": 3,
     "metadata": {},
     "output_type": "execute_result"
    }
   ],
   "source": [
    "# NOTE Question 3\n",
    "from decoderonly import Transformer, train_model, test_model\n",
    "\n",
    "device=torch.device('cuda' if torch.cuda.is_available() else 'cpu')\n",
    "\n",
    "# get pretrained model\n",
    "# TODO change this\n",
    "model = Transformer(\n",
    "    src_vocab=50257, \n",
    "    trg_vocab=50257, \n",
    "    d_model=512, \n",
    "    N=6, \n",
    "    heads=8, \n",
    "    dropout=0.1, \n",
    "    seqlen=512, \n",
    "    device=device,\n",
    ")\n",
    "model.load_state_dict(torch.load(f'saves/pretrainedwiki103.pth', weights_only=True))\n",
    "model.to(device)\n"
   ]
  },
  {
   "cell_type": "code",
   "execution_count": null,
   "metadata": {},
   "outputs": [],
   "source": [
    "# baseline\n",
    "acc, val_loss = test_model(model=model, test=test_loader, masked=True)\n",
    "print(f'Baseline test accuracy: {acc*100:.4f}')\n",
    "\n",
    "# train\n",
    "train_model(\n",
    "    model=model,\n",
    "    train=train_loader,\n",
    "    valid=val_loader,\n",
    "    epochs=5,\n",
    "    batch_size=4,\n",
    "    only_last_token=False,\n",
    "    savename=f'saves/q3fintune.pth',\n",
    ")\n",
    "\n",
    "# final accuracy\n",
    "acc, val_loss = test_model(model=model, test=test_loader, masked=True)\n",
    "print(f'Final test accuracy: {acc*100:.4f}')"
   ]
  },
  {
   "cell_type": "code",
   "execution_count": 5,
   "metadata": {},
   "outputs": [
    {
     "name": "stdout",
     "output_type": "stream",
     "text": [
      "Example inference:\n",
      "\n",
      " using less resources usually causes money to be saved A person wants to start saving money so that they can afford a nice vacation at the end of the year. After looking over their budget and expenses, they decide the best way to save money is to [A] make more phone calls [B] quit eating lunch out [C] buy less with monopoly money [D] have lunch with friends Answer:\n",
      "\n",
      "\n",
      "Example inference:\n",
      "\n",
      " less resources usually causes money to be saved A person wants to start saving money so that they can afford a nice vacation at the end of the year. After looking over their budget and expenses, they decide the best way to save money is to [A] make more phone calls [B] quit eating lunch out [C] buy less with monopoly money [D] have lunch with friends Answer: B!!!!!!!!!!!!!!!!!!!!!!!!!!!!!!!!!!!!!!!!!!!!!!!!!!!!!!!!!!!!!!!!!!!!!!!!!!!!!!!!!!!!!!!!!!!!!!!!!!!!!!!!!!!!!!!!!!!!!!!!!!!!!!!!!!!!!!!!!!!!!!!!!!!!!!!!!!!!!!!!!!!!!!!!!!!!!!!!!!!!!!!!!!!!!!!!!!!!!!!!!!!!!!!!!!!!!!!!!!!!!!!!!!!!!!!!!!!!!!!!!!!!!!!!!!!!!!!!!!!!!!!!!!!!!!!!!!!!!!!!!!!!!!!!!!!!!!!!!!!!!!!!!!!!!!!!!!!!!!!!!!!!!!!!!!!!!!!!!!!!!!!!!!!!!!!!!!!!!!!!!!!!!!!!!!!!!!!!!!!!!!!!!!!!!!!!!!!!!!!!!!!!!!!!!!!!!!!!!!!!!!!!!!!!!!!!\n",
      "\n",
      "\n",
      "torch.Size([512])\n",
      "torch.Size([1])\n"
     ]
    },
    {
     "ename": "RuntimeError",
     "evalue": "CUDA error: CUBLAS_STATUS_EXECUTION_FAILED when calling cublasLtMatmul with transpose_mat1 1 transpose_mat2 0 m 50257 n 512 k 512 mat1_ld 512 mat2_ld 512 result_ld 50257 abcType 0 computeType 68 scaleType 0",
     "output_type": "error",
     "traceback": [
      "\u001b[31m---------------------------------------------------------------------------\u001b[39m",
      "\u001b[31mRuntimeError\u001b[39m                              Traceback (most recent call last)",
      "\u001b[36mCell\u001b[39m\u001b[36m \u001b[39m\u001b[32mIn[5]\u001b[39m\u001b[32m, line 10\u001b[39m\n\u001b[32m      6\u001b[39m detokenized_exmp = tokenizer.decode(exmp)\n\u001b[32m      7\u001b[39m \u001b[38;5;28mprint\u001b[39m(\u001b[33mf\u001b[39m\u001b[33m'\u001b[39m\u001b[33mExample inference:\u001b[39m\u001b[38;5;130;01m\\n\u001b[39;00m\u001b[38;5;130;01m\\n\u001b[39;00m\u001b[38;5;132;01m{\u001b[39;00mdetokenized_exmp\u001b[38;5;132;01m}\u001b[39;00m\u001b[38;5;130;01m\\n\u001b[39;00m\u001b[38;5;130;01m\\n\u001b[39;00m\u001b[33m'\u001b[39m)\n\u001b[32m---> \u001b[39m\u001b[32m10\u001b[39m predictions = \u001b[43mmodel\u001b[49m\u001b[43m.\u001b[49m\u001b[43mdecode\u001b[49m\u001b[43m(\u001b[49m\u001b[43mtorch\u001b[49m\u001b[43m.\u001b[49m\u001b[43mtensor\u001b[49m\u001b[43m(\u001b[49m\u001b[43mexmp\u001b[49m\u001b[43m)\u001b[49m\u001b[43m.\u001b[49m\u001b[43mto\u001b[49m\u001b[43m(\u001b[49m\u001b[43mmodel\u001b[49m\u001b[43m.\u001b[49m\u001b[43mdevice\u001b[49m\u001b[43m)\u001b[49m\u001b[43m)\u001b[49m\n\u001b[32m     11\u001b[39m pred_token_idx = torch.argmax(predictions[:, -\u001b[32m1\u001b[39m], dim=-\u001b[32m1\u001b[39m).item()\n\u001b[32m     12\u001b[39m \u001b[38;5;28mprint\u001b[39m(\u001b[33mf\u001b[39m\u001b[33m'\u001b[39m\u001b[33mModel prediction token index: \u001b[39m\u001b[38;5;132;01m{\u001b[39;00mpred_token_idx\u001b[38;5;132;01m}\u001b[39;00m\u001b[33m'\u001b[39m)\n",
      "\u001b[36mFile \u001b[39m\u001b[32m~/vault/gradschool/dlvenv/lib/python3.11/site-packages/torch/utils/_contextlib.py:116\u001b[39m, in \u001b[36mcontext_decorator.<locals>.decorate_context\u001b[39m\u001b[34m(*args, **kwargs)\u001b[39m\n\u001b[32m    113\u001b[39m \u001b[38;5;129m@functools\u001b[39m.wraps(func)\n\u001b[32m    114\u001b[39m \u001b[38;5;28;01mdef\u001b[39;00m\u001b[38;5;250m \u001b[39m\u001b[34mdecorate_context\u001b[39m(*args, **kwargs):\n\u001b[32m    115\u001b[39m     \u001b[38;5;28;01mwith\u001b[39;00m ctx_factory():\n\u001b[32m--> \u001b[39m\u001b[32m116\u001b[39m         \u001b[38;5;28;01mreturn\u001b[39;00m \u001b[43mfunc\u001b[49m\u001b[43m(\u001b[49m\u001b[43m*\u001b[49m\u001b[43margs\u001b[49m\u001b[43m,\u001b[49m\u001b[43m \u001b[49m\u001b[43m*\u001b[49m\u001b[43m*\u001b[49m\u001b[43mkwargs\u001b[49m\u001b[43m)\u001b[49m\n",
      "\u001b[36mFile \u001b[39m\u001b[32m~/vault/gradschool/nlp/hw2/decoderonly.py:362\u001b[39m, in \u001b[36mTransformer.decode\u001b[39m\u001b[34m(self, trg)\u001b[39m\n\u001b[32m    359\u001b[39m inference_tokens = []\n\u001b[32m    361\u001b[39m \u001b[38;5;28;01mwhile\u001b[39;00m token_idx != \u001b[32m50256\u001b[39m \u001b[38;5;129;01mand\u001b[39;00m tokens_generated < max_tokens:\n\u001b[32m--> \u001b[39m\u001b[32m362\u001b[39m     logits = \u001b[38;5;28;43mself\u001b[39;49m\u001b[43m.\u001b[49m\u001b[43mforward\u001b[49m\u001b[43m(\u001b[49m\u001b[43mtrg\u001b[49m\u001b[43m=\u001b[49m\u001b[43mtrg\u001b[49m\u001b[43m)\u001b[49m\n\u001b[32m    363\u001b[39m     \u001b[38;5;66;03m# greedy decode\u001b[39;00m\n\u001b[32m    364\u001b[39m     token_idx = torch.argmax(logits[:, -\u001b[32m1\u001b[39m], dim=\u001b[32m1\u001b[39m).item()\n",
      "\u001b[36mFile \u001b[39m\u001b[32m~/vault/gradschool/nlp/hw2/decoderonly.py:347\u001b[39m, in \u001b[36mTransformer.forward\u001b[39m\u001b[34m(self, trg, trg_mask)\u001b[39m\n\u001b[32m    343\u001b[39m \u001b[38;5;66;03m# print(trg_mask[0])\u001b[39;00m\n\u001b[32m    344\u001b[39m \u001b[38;5;66;03m# print(f'trg_mask shape: {trg_mask.shape}')\u001b[39;00m\n\u001b[32m    346\u001b[39m d_output = \u001b[38;5;28mself\u001b[39m.decoder(trg, trg_mask)\n\u001b[32m--> \u001b[39m\u001b[32m347\u001b[39m output = \u001b[38;5;28;43mself\u001b[39;49m\u001b[43m.\u001b[49m\u001b[43mout\u001b[49m\u001b[43m(\u001b[49m\u001b[43md_output\u001b[49m\u001b[43m)\u001b[49m\n\u001b[32m    348\u001b[39m \u001b[38;5;28;01mreturn\u001b[39;00m output\n",
      "\u001b[36mFile \u001b[39m\u001b[32m~/vault/gradschool/dlvenv/lib/python3.11/site-packages/torch/nn/modules/module.py:1739\u001b[39m, in \u001b[36mModule._wrapped_call_impl\u001b[39m\u001b[34m(self, *args, **kwargs)\u001b[39m\n\u001b[32m   1737\u001b[39m     \u001b[38;5;28;01mreturn\u001b[39;00m \u001b[38;5;28mself\u001b[39m._compiled_call_impl(*args, **kwargs)  \u001b[38;5;66;03m# type: ignore[misc]\u001b[39;00m\n\u001b[32m   1738\u001b[39m \u001b[38;5;28;01melse\u001b[39;00m:\n\u001b[32m-> \u001b[39m\u001b[32m1739\u001b[39m     \u001b[38;5;28;01mreturn\u001b[39;00m \u001b[38;5;28;43mself\u001b[39;49m\u001b[43m.\u001b[49m\u001b[43m_call_impl\u001b[49m\u001b[43m(\u001b[49m\u001b[43m*\u001b[49m\u001b[43margs\u001b[49m\u001b[43m,\u001b[49m\u001b[43m \u001b[49m\u001b[43m*\u001b[49m\u001b[43m*\u001b[49m\u001b[43mkwargs\u001b[49m\u001b[43m)\u001b[49m\n",
      "\u001b[36mFile \u001b[39m\u001b[32m~/vault/gradschool/dlvenv/lib/python3.11/site-packages/torch/nn/modules/module.py:1750\u001b[39m, in \u001b[36mModule._call_impl\u001b[39m\u001b[34m(self, *args, **kwargs)\u001b[39m\n\u001b[32m   1745\u001b[39m \u001b[38;5;66;03m# If we don't have any hooks, we want to skip the rest of the logic in\u001b[39;00m\n\u001b[32m   1746\u001b[39m \u001b[38;5;66;03m# this function, and just call forward.\u001b[39;00m\n\u001b[32m   1747\u001b[39m \u001b[38;5;28;01mif\u001b[39;00m \u001b[38;5;129;01mnot\u001b[39;00m (\u001b[38;5;28mself\u001b[39m._backward_hooks \u001b[38;5;129;01mor\u001b[39;00m \u001b[38;5;28mself\u001b[39m._backward_pre_hooks \u001b[38;5;129;01mor\u001b[39;00m \u001b[38;5;28mself\u001b[39m._forward_hooks \u001b[38;5;129;01mor\u001b[39;00m \u001b[38;5;28mself\u001b[39m._forward_pre_hooks\n\u001b[32m   1748\u001b[39m         \u001b[38;5;129;01mor\u001b[39;00m _global_backward_pre_hooks \u001b[38;5;129;01mor\u001b[39;00m _global_backward_hooks\n\u001b[32m   1749\u001b[39m         \u001b[38;5;129;01mor\u001b[39;00m _global_forward_hooks \u001b[38;5;129;01mor\u001b[39;00m _global_forward_pre_hooks):\n\u001b[32m-> \u001b[39m\u001b[32m1750\u001b[39m     \u001b[38;5;28;01mreturn\u001b[39;00m \u001b[43mforward_call\u001b[49m\u001b[43m(\u001b[49m\u001b[43m*\u001b[49m\u001b[43margs\u001b[49m\u001b[43m,\u001b[49m\u001b[43m \u001b[49m\u001b[43m*\u001b[49m\u001b[43m*\u001b[49m\u001b[43mkwargs\u001b[49m\u001b[43m)\u001b[49m\n\u001b[32m   1752\u001b[39m result = \u001b[38;5;28;01mNone\u001b[39;00m\n\u001b[32m   1753\u001b[39m called_always_called_hooks = \u001b[38;5;28mset\u001b[39m()\n",
      "\u001b[36mFile \u001b[39m\u001b[32m~/vault/gradschool/dlvenv/lib/python3.11/site-packages/torch/nn/modules/linear.py:125\u001b[39m, in \u001b[36mLinear.forward\u001b[39m\u001b[34m(self, input)\u001b[39m\n\u001b[32m    124\u001b[39m \u001b[38;5;28;01mdef\u001b[39;00m\u001b[38;5;250m \u001b[39m\u001b[34mforward\u001b[39m(\u001b[38;5;28mself\u001b[39m, \u001b[38;5;28minput\u001b[39m: Tensor) -> Tensor:\n\u001b[32m--> \u001b[39m\u001b[32m125\u001b[39m     \u001b[38;5;28;01mreturn\u001b[39;00m \u001b[43mF\u001b[49m\u001b[43m.\u001b[49m\u001b[43mlinear\u001b[49m\u001b[43m(\u001b[49m\u001b[38;5;28;43minput\u001b[39;49m\u001b[43m,\u001b[49m\u001b[43m \u001b[49m\u001b[38;5;28;43mself\u001b[39;49m\u001b[43m.\u001b[49m\u001b[43mweight\u001b[49m\u001b[43m,\u001b[49m\u001b[43m \u001b[49m\u001b[38;5;28;43mself\u001b[39;49m\u001b[43m.\u001b[49m\u001b[43mbias\u001b[49m\u001b[43m)\u001b[49m\n",
      "\u001b[31mRuntimeError\u001b[39m: CUDA error: CUBLAS_STATUS_EXECUTION_FAILED when calling cublasLtMatmul with transpose_mat1 1 transpose_mat2 0 m 50257 n 512 k 512 mat1_ld 512 mat2_ld 512 result_ld 50257 abcType 0 computeType 68 scaleType 0"
     ]
    }
   ],
   "source": [
    "exmp_str = ' using less resources usually causes money to be saved A person wants to start saving money so that they can afford a nice vacation at the end of the year. After looking over their budget and expenses, they decide the best way to save money is to [A] make more phone calls [B] quit eating lunch out [C] buy less with monopoly money [D] have lunch with friends Answer:'\n",
    "exmp = tokenizer.encode(exmp_str)\n",
    "detokenized_exmp = tokenizer.decode(exmp)\n",
    "print(f'Example inference:\\n\\n{detokenized_exmp}\\n\\n')\n",
    "exmp = list(test_ds[0][1])\n",
    "detokenized_exmp = tokenizer.decode(exmp)\n",
    "print(f'Example inference:\\n\\n{detokenized_exmp}\\n\\n')\n",
    "\n",
    "\n",
    "predictions = model.decode(torch.tensor(exmp).to(model.device))\n",
    "pred_token_idx = torch.argmax(predictions[:, -1], dim=-1).item()\n",
    "print(f'Model prediction token index: {pred_token_idx}')\n",
    "pred_next_token = tokenizer.decode(pred_token_idx)\n",
    "print(f'Model prediction: {pred_next_token}')"
   ]
  }
 ],
 "metadata": {
  "kernelspec": {
   "display_name": "dlvenv",
   "language": "python",
   "name": "dlvenv"
  },
  "language_info": {
   "codemirror_mode": {
    "name": "ipython",
    "version": 3
   },
   "file_extension": ".py",
   "mimetype": "text/x-python",
   "name": "python",
   "nbconvert_exporter": "python",
   "pygments_lexer": "ipython3",
   "version": "3.11.2"
  }
 },
 "nbformat": 4,
 "nbformat_minor": 2
}
