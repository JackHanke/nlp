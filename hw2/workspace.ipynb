{
 "cells": [
  {
   "cell_type": "code",
   "execution_count": 15,
   "metadata": {},
   "outputs": [],
   "source": [
    "%load_ext autoreload\n",
    "%autoreload 2"
   ]
  },
  {
   "cell_type": "code",
   "execution_count": null,
   "metadata": {},
   "outputs": [],
   "source": [
    "# we have:\n",
    "[\n",
    "    [['apple', 'bannana', 'grape', 'blueberry'], [4]],\n",
    "    [['carrot', 'broccoli', 'celery', 'lettuce'], [2]],\n",
    "]\n",
    "# we need:\n",
    "[\n",
    "    [\n",
    "        [['apple', 'bannana', 'grape', 'blueberry'], [4]],\n",
    "        [['carrot', 'broccoli', 'celery', 'lettuce'], [2]],\n",
    "    ]\n",
    "]"
   ]
  },
  {
   "cell_type": "code",
   "execution_count": 1,
   "metadata": {},
   "outputs": [],
   "source": [
    "from pprint import pprint\n",
    "from transformers import AutoTokenizer, BertModel, GPT2LMHeadModel, GPT2Tokenizer\n",
    "\n",
    "bert_model = BertModel.from_pretrained(\"bert-base-uncased\")\n",
    "tokenizer = AutoTokenizer.from_pretrained(\"bert-base-uncased\")"
   ]
  },
  {
   "cell_type": "code",
   "execution_count": null,
   "metadata": {},
   "outputs": [
    {
     "name": "stdout",
     "output_type": "stream",
     "text": [
      "[[[' [CLS] the sun is the source of energy for physical cycles on Earth [SEP] '\n",
      "   'The sun is responsible for puppies learning new tricks [SEP] [END]',\n",
      "   ' [CLS] the sun is the source of energy for physical cycles on Earth [SEP] '\n",
      "   'The sun is responsible for children growing up and getting old [SEP] [END]',\n",
      "   ' [CLS] the sun is the source of energy for physical cycles on Earth [SEP] '\n",
      "   'The sun is responsible for flowers wilting in a vase [SEP] [END]',\n",
      "   ' [CLS] the sun is the source of energy for physical cycles on Earth [SEP] '\n",
      "   'The sun is responsible for plants sprouting, blooming and wilting [SEP] '\n",
      "   '[END]'],\n",
      "  [3]],\n",
      " [[' [CLS] as distance to an object increases , that object will appear '\n",
      "   'smaller [SEP] When standing miles away from Mount Rushmore the mountains '\n",
      "   'seem very close [SEP] [END]',\n",
      "   ' [CLS] as distance to an object increases , that object will appear '\n",
      "   'smaller [SEP] When standing miles away from Mount Rushmore the mountains '\n",
      "   'are boring [SEP] [END]',\n",
      "   ' [CLS] as distance to an object increases , that object will appear '\n",
      "   'smaller [SEP] When standing miles away from Mount Rushmore the mountains '\n",
      "   'look the same as from up close [SEP] [END]',\n",
      "   ' [CLS] as distance to an object increases , that object will appear '\n",
      "   'smaller [SEP] When standing miles away from Mount Rushmore the mountains '\n",
      "   'seem smaller than in photographs [SEP] [END]'],\n",
      "  [3]],\n",
      " [[' [CLS] digestion is when stomach acid breaks down food [SEP] When food is '\n",
      "   'reduced in the stomach the mind needs time to digest [SEP] [END]',\n",
      "   ' [CLS] digestion is when stomach acid breaks down food [SEP] When food is '\n",
      "   'reduced in the stomach take a second to digest what I said [SEP] [END]',\n",
      "   ' [CLS] digestion is when stomach acid breaks down food [SEP] When food is '\n",
      "   'reduced in the stomach nutrients are being deconstructed [SEP] [END]',\n",
      "   ' [CLS] digestion is when stomach acid breaks down food [SEP] When food is '\n",
      "   \"reduced in the stomach reader's digest is a body of works [SEP] [END]\"],\n",
      "  [2]],\n",
      " [[' [CLS] a star is made of gases [SEP] Stars are warm lights that float '\n",
      "   '[SEP] [END]',\n",
      "   ' [CLS] a star is made of gases [SEP] Stars are made out of nitrate [SEP] '\n",
      "   '[END]',\n",
      "   ' [CLS] a star is made of gases [SEP] Stars are great balls of gas burning '\n",
      "   'billions of miles away [SEP] [END]',\n",
      "   ' [CLS] a star is made of gases [SEP] Stars are lights in the sky [SEP] '\n",
      "   '[END]'],\n",
      "  [2]],\n",
      " [[' [CLS] Galileo Galilei made improvements to the telescope to make better '\n",
      "   'observations of celestial bodies [SEP] You can make a telescope with a '\n",
      "   'straw [SEP] [END]',\n",
      "   ' [CLS] Galileo Galilei made improvements to the telescope to make better '\n",
      "   'observations of celestial bodies [SEP] You can make a telescope with a '\n",
      "   'Glass [SEP] [END]',\n",
      "   ' [CLS] Galileo Galilei made improvements to the telescope to make better '\n",
      "   'observations of celestial bodies [SEP] You can make a telescope with a '\n",
      "   'Candle [SEP] [END]',\n",
      "   ' [CLS] Galileo Galilei made improvements to the telescope to make better '\n",
      "   'observations of celestial bodies [SEP] You can make a telescope with a '\n",
      "   'mailing tube [SEP] [END]'],\n",
      "  [3]]]\n",
      "torch.Size([5, 4])\n",
      "torch.Size([5, 4, 768])\n"
     ]
    }
   ],
   "source": [
    "import torch\n",
    "import torch.nn as nn\n",
    "import torch.optim as optim\n",
    "from torch.utils.data import Dataset, DataLoader\n",
    "from utils import read_qa_json\n",
    "\n",
    "torch.manual_seed(0)\n",
    "batch_size = 2\n",
    "\n",
    "train = read_qa_json(file_name='train_complete.jsonl', verbose=False)\n",
    "valid = read_qa_json(file_name='dev_complete.jsonl')\n",
    "test = read_qa_json(file_name='test_complete.jsonl')\n",
    "\n",
    "\n",
    "\n",
    "questions = train[0:5]\n",
    "# pprint(questions)\n",
    "\n",
    "pred_tensor = []\n",
    "for question in questions:\n",
    "    # tokenize question\n",
    "    tokens = tokenizer(question[0], return_tensors=\"pt\", padding=True, truncation=True)\n",
    "    # make batch predictions tensor\n",
    "    output = bert_model(**tokens).last_hidden_state[:, 0].unsqueeze(0) # get embedding of [CLS] token\n",
    "    pred_tensor.append(output)\n",
    "\n",
    "pred_tensor = torch.cat(pred_tensor)\n",
    "\n",
    "linear = torch.rand(768, 1)\n",
    "\n",
    "print((pred_tensor @ linear).squeeze(2).shape)\n",
    "\n",
    "print(pred_tensor.shape)"
   ]
  }
 ],
 "metadata": {
  "kernelspec": {
   "display_name": "dlvenv",
   "language": "python",
   "name": "dlvenv"
  },
  "language_info": {
   "codemirror_mode": {
    "name": "ipython",
    "version": 3
   },
   "file_extension": ".py",
   "mimetype": "text/x-python",
   "name": "python",
   "nbconvert_exporter": "python",
   "pygments_lexer": "ipython3",
   "version": "3.11.2"
  }
 },
 "nbformat": 4,
 "nbformat_minor": 2
}
