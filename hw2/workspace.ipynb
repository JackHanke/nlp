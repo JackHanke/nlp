{
 "cells": [
  {
   "cell_type": "code",
   "execution_count": 1,
   "metadata": {},
   "outputs": [],
   "source": [
    "%load_ext autoreload\n",
    "%autoreload 2"
   ]
  },
  {
   "cell_type": "code",
   "execution_count": 2,
   "metadata": {},
   "outputs": [],
   "source": [
    "import torch\n",
    "import torch.nn as nn\n",
    "import torch.optim as optim\n",
    "from torch.utils.data import Dataset, DataLoader\n",
    "from tqdm import tqdm\n",
    "from utils import read_qa_json, read_qa_json_generative\n",
    "from pprint import pprint\n",
    "from transformers import AutoTokenizer, BertModel, GPT2LMHeadModel, GPT2Tokenizer, GPT2TokenizerFast"
   ]
  },
  {
   "cell_type": "code",
   "execution_count": 3,
   "metadata": {},
   "outputs": [],
   "source": [
    "bert_model = BertModel.from_pretrained(\"bert-base-uncased\")\n",
    "tokenizer = AutoTokenizer.from_pretrained(\"bert-base-uncased\")"
   ]
  },
  {
   "cell_type": "code",
   "execution_count": 4,
   "metadata": {},
   "outputs": [],
   "source": [
    "train = read_qa_json_generative(file_name='train_complete.jsonl', verbose=False)\n",
    "valid = read_qa_json_generative(file_name='dev_complete.jsonl')\n",
    "test = read_qa_json_generative(file_name='test_complete.jsonl')\n",
    "\n",
    "tokenizer = GPT2TokenizerFast.from_pretrained(\"gpt2\")\n",
    "\n",
    "PAD_TOKEN_INDEX = 0\n",
    "\n",
    "class TokenQADataset(Dataset):\n",
    "    def __init__(self, data: list[str], tokenizer: callable, seq_len: int = 512):\n",
    "        self.data = data\n",
    "        self.tokenizer = tokenizer\n",
    "        self.seq_len = seq_len\n",
    "        self.pad_token = -1\n",
    "\n",
    "    def __len__(self):\n",
    "        return len(self.data)\n",
    "    \n",
    "    def __getitem__(self, idx):\n",
    "        tokenized_sentence = self.tokenizer(self.data[idx])['input_ids']\n",
    "        question_sequence = tokenized_sentence[:-1]\n",
    "        answer_sequence = tokenized_sentence[1:]\n",
    "        n = len(tokenized_sentence)\n",
    "        if n > self.seq_len:\n",
    "            question_sequence = question_sequence[:self.seq_len+1]\n",
    "            answer_sequence = answer_sequence[:self.seq_len+1]\n",
    "        elif n < self.seq_len:\n",
    "            question_sequence += [PAD_TOKEN_INDEX for _ in range(self.seq_len+1-n)]\n",
    "            answer_sequence += [PAD_TOKEN_INDEX for _ in range(self.seq_len+1-n)]\n",
    "        return torch.tensor(question_sequence, dtype=torch.long).contiguous(), torch.tensor(answer_sequence, dtype=torch.long).contiguous()\n",
    "\n",
    "train_ds = TokenQADataset(data=train, tokenizer=tokenizer)\n",
    "val_ds = TokenQADataset(data=valid, tokenizer=tokenizer)\n",
    "test_ds = TokenQADataset(data=test, tokenizer=tokenizer)\n",
    "\n",
    "batch_size = 8\n",
    "train_loader = DataLoader(train_ds, batch_size=batch_size, shuffle=True)\n",
    "val_loader = DataLoader(val_ds, batch_size=batch_size, shuffle=False)\n",
    "test_loader = DataLoader(test_ds, batch_size=batch_size, shuffle=False)\n"
   ]
  },
  {
   "cell_type": "code",
   "execution_count": 5,
   "metadata": {},
   "outputs": [
    {
     "name": "stdout",
     "output_type": "stream",
     "text": [
      "[317]\n",
      "[347]\n",
      "[327]\n",
      "[360]\n",
      "[685, 2257, 7227, 60]\n",
      " snowball\n",
      " responders\n",
      " B\n",
      "!\n"
     ]
    }
   ],
   "source": [
    "tokenizer.pad_token_type_id\n",
    "\n",
    "print(tokenizer.encode(' A'))\n",
    "print(tokenizer.encode(' B'))\n",
    "print(tokenizer.encode(' C'))\n",
    "print(tokenizer.encode(' D'))\n",
    "print(tokenizer.encode(' [START]'))\n",
    "\n",
    "print(tokenizer.decode(46275))\n",
    "print(tokenizer.decode(33339))\n",
    "print(tokenizer.decode(347))\n",
    "print(tokenizer.decode(0))\n"
   ]
  },
  {
   "cell_type": "code",
   "execution_count": 6,
   "metadata": {},
   "outputs": [
    {
     "name": "stderr",
     "output_type": "stream",
     "text": [
      "Loss: 1.276758: 100%|██████████| 620/620 [01:20<00:00,  7.69it/s]\n",
      "Question 500: 27.6000 percent. Validation Loss: 14.4495: 100%|██████████| 63/63 [00:05<00:00, 11.32it/s]\n"
     ]
    },
    {
     "name": "stdout",
     "output_type": "stream",
     "text": [
      "Epoch 0 validation accuracy: 27.6000. Validation Loss: 14.1719\n"
     ]
    },
    {
     "name": "stderr",
     "output_type": "stream",
     "text": [
      "Loss: 1.068750: 100%|██████████| 620/620 [01:14<00:00,  8.27it/s]\n",
      "Question 500: 34.0000 percent. Validation Loss: 13.8578: 100%|██████████| 63/63 [00:05<00:00, 11.52it/s]\n"
     ]
    },
    {
     "name": "stdout",
     "output_type": "stream",
     "text": [
      "Epoch 1 validation accuracy: 34.0000. Validation Loss: 13.4979\n"
     ]
    },
    {
     "name": "stderr",
     "output_type": "stream",
     "text": [
      "Loss: 1.071289: 100%|██████████| 620/620 [01:07<00:00,  9.19it/s]\n",
      "Question 500: 38.6000 percent. Validation Loss: 14.3748: 100%|██████████| 63/63 [00:04<00:00, 12.92it/s]\n"
     ]
    },
    {
     "name": "stdout",
     "output_type": "stream",
     "text": [
      "Epoch 2 validation accuracy: 38.6000. Validation Loss: 13.7587\n"
     ]
    },
    {
     "name": "stderr",
     "output_type": "stream",
     "text": [
      "Loss: 0.171182: 100%|██████████| 620/620 [01:07<00:00,  9.17it/s]\n",
      "Question 500: 39.6000 percent. Validation Loss: 13.4969: 100%|██████████| 63/63 [00:05<00:00, 11.44it/s]\n"
     ]
    },
    {
     "name": "stdout",
     "output_type": "stream",
     "text": [
      "Epoch 3 validation accuracy: 39.6000. Validation Loss: 12.8150\n"
     ]
    },
    {
     "name": "stderr",
     "output_type": "stream",
     "text": [
      "Loss: 0.707539: 100%|██████████| 620/620 [01:14<00:00,  8.31it/s]\n",
      "Question 500: 39.6000 percent. Validation Loss: 13.3841: 100%|██████████| 63/63 [00:05<00:00, 12.06it/s]\n"
     ]
    },
    {
     "name": "stdout",
     "output_type": "stream",
     "text": [
      "Epoch 4 validation accuracy: 39.6000. Validation Loss: 12.5696\n",
      "Saved model as saves/q2fintune.pth\n"
     ]
    },
    {
     "name": "stderr",
     "output_type": "stream",
     "text": [
      "Question 500: 39.8000 percent. Validation Loss: 12.1781: 100%|██████████| 63/63 [00:04<00:00, 12.72it/s]"
     ]
    },
    {
     "name": "stdout",
     "output_type": "stream",
     "text": [
      "Final test accuracy: 39.8000\n"
     ]
    },
    {
     "name": "stderr",
     "output_type": "stream",
     "text": [
      "\n"
     ]
    }
   ],
   "source": [
    "# NOTE Question 2\n",
    "from decoderonly import Transformer, train_model, test_model\n",
    "\n",
    "device=torch.device('cuda' if torch.cuda.is_available() else 'cpu')\n",
    "\n",
    "# get pretrained model\n",
    "# TODO change this\n",
    "model = Transformer(\n",
    "    src_vocab=50257, \n",
    "    trg_vocab=50257, \n",
    "    d_model=512, \n",
    "    N=6, \n",
    "    heads=8, \n",
    "    dropout=0.1, \n",
    "    seqlen=512, \n",
    "    device=device,\n",
    ")\n",
    "model.load_state_dict(torch.load(f'saves/pretrainedwiki103.pth', weights_only=True))\n",
    "model.to(device)\n",
    "\n",
    "# baseline\n",
    "# acc, val_loss = test_model(model=model, test=test_loader)\n",
    "# print(f'Baseline test accuracy: {acc*100:.4f}')\n",
    "\n",
    "# train\n",
    "train_model(\n",
    "    model=model,\n",
    "    train=train_loader,\n",
    "    valid=val_loader,\n",
    "    epochs=5,\n",
    "    batch_size=4,\n",
    "    savename=f'saves/q2fintune.pth',\n",
    ")\n",
    "\n",
    "# final accuracy\n",
    "acc, val_loss = test_model(model=model, test=test_loader)\n",
    "print(f'Final test accuracy: {acc*100:.4f}')\n",
    "\n"
   ]
  },
  {
   "cell_type": "code",
   "execution_count": 7,
   "metadata": {},
   "outputs": [
    {
     "name": "stdout",
     "output_type": "stream",
     "text": [
      "Example inference:\n",
      "\n",
      " using less resources usually causes money to be saved A person wants to start saving money so that they can afford a nice vacation at the end of the year. After looking over their budget and expenses, they decide the best way to save money is to [A] make more phone calls [B] quit eating lunch out [C] buy less with monopoly money [D] have lunch with friends Answer:!!!!!!!!!!!!!!!!!!!!!!!!!!!!!!!!!!!!!!!!!!!!!!!!!!!!!!!!!!!!!!!!!!!!!!!!!!!!!!!!!!!!!!!!!!!!!!!!!!!!!!!!!!!!!!!!!!!!!!!!!!!!!!!!!!!!!!!!!!!!!!!!!!!!!!!!!!!!!!!!!!!!!!!!!!!!!!!!!!!!!!!!!!!!!!!!!!!!!!!!!!!!!!!!!!!!!!!!!!!!!!!!!!!!!!!!!!!!!!!!!!!!!!!!!!!!!!!!!!!!!!!!!!!!!!!!!!!!!!!!!!!!!!!!!!!!!!!!!!!!!!!!!!!!!!!!!!!!!!!!!!!!!!!!!!!!!!!!!!!!!!!!!!!!!!!!!!!!!!!!!!!!!!!!!!!!!!!!!!!!!!!!!!!!!!!!!!!!!!!!!!!!!!!!!!!!!!!!!!!!!!!!!!!!!!!!\n",
      "\n",
      "\n",
      "Example inference:\n",
      "\n",
      " less resources usually causes money to be saved A person wants to start saving money so that they can afford a nice vacation at the end of the year. After looking over their budget and expenses, they decide the best way to save money is to [A] make more phone calls [B] quit eating lunch out [C] buy less with monopoly money [D] have lunch with friends Answer: B!!!!!!!!!!!!!!!!!!!!!!!!!!!!!!!!!!!!!!!!!!!!!!!!!!!!!!!!!!!!!!!!!!!!!!!!!!!!!!!!!!!!!!!!!!!!!!!!!!!!!!!!!!!!!!!!!!!!!!!!!!!!!!!!!!!!!!!!!!!!!!!!!!!!!!!!!!!!!!!!!!!!!!!!!!!!!!!!!!!!!!!!!!!!!!!!!!!!!!!!!!!!!!!!!!!!!!!!!!!!!!!!!!!!!!!!!!!!!!!!!!!!!!!!!!!!!!!!!!!!!!!!!!!!!!!!!!!!!!!!!!!!!!!!!!!!!!!!!!!!!!!!!!!!!!!!!!!!!!!!!!!!!!!!!!!!!!!!!!!!!!!!!!!!!!!!!!!!!!!!!!!!!!!!!!!!!!!!!!!!!!!!!!!!!!!!!!!!!!!!!!!!!!!!!!!!!!!!!!!!!!!!!!!!!!!!\n",
      "\n",
      "\n",
      "Model prediction token index: 347\n",
      "Model prediction:  B\n"
     ]
    }
   ],
   "source": [
    "raw_data = test_ds[0][0]\n",
    "# true_answer = test_ds[0]\n",
    "# print(raw_data)\n",
    "\n",
    "exmp = list(test_ds[0][0])\n",
    "detokenized_exmp = tokenizer.decode(exmp)\n",
    "print(f'Example inference:\\n\\n{detokenized_exmp}\\n\\n')\n",
    "exmp = list(test_ds[0][1])\n",
    "detokenized_exmp = tokenizer.decode(exmp)\n",
    "print(f'Example inference:\\n\\n{detokenized_exmp}\\n\\n')\n",
    "\n",
    "\n",
    "\n",
    "predictions = model.forward(raw_data.to(model.device))\n",
    "pred_token_idx = torch.argmax(predictions[:, -1], dim=-1).item()\n",
    "print(f'Model prediction token index: {pred_token_idx}')\n",
    "pred_next_token = tokenizer.decode(pred_token_idx)\n",
    "print(f'Model prediction: {pred_next_token}')"
   ]
  }
 ],
 "metadata": {
  "kernelspec": {
   "display_name": "dlvenv",
   "language": "python",
   "name": "dlvenv"
  },
  "language_info": {
   "codemirror_mode": {
    "name": "ipython",
    "version": 3
   },
   "file_extension": ".py",
   "mimetype": "text/x-python",
   "name": "python",
   "nbconvert_exporter": "python",
   "pygments_lexer": "ipython3",
   "version": "3.11.2"
  }
 },
 "nbformat": 4,
 "nbformat_minor": 2
}
